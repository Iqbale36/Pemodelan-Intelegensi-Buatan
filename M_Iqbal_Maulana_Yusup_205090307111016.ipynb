{
  "nbformat": 4,
  "nbformat_minor": 0,
  "metadata": {
    "colab": {
      "name": "M. Iqbal Maulana Yusup_205090307111016.ipynb",
      "provenance": [],
      "authorship_tag": "ABX9TyMo3fxvkpyQRASTUsFU6Jrr",
      "include_colab_link": true
    },
    "kernelspec": {
      "name": "python3",
      "display_name": "Python 3"
    },
    "language_info": {
      "name": "python"
    }
  },
  "cells": [
    {
      "cell_type": "markdown",
      "metadata": {
        "id": "view-in-github",
        "colab_type": "text"
      },
      "source": [
        "<a href=\"https://colab.research.google.com/github/Iqbale36/Pemodelan-Intelegensi-Buatan/blob/main/M_Iqbal_Maulana_Yusup_205090307111016.ipynb\" target=\"_parent\"><img src=\"https://colab.research.google.com/assets/colab-badge.svg\" alt=\"Open In Colab\"/></a>"
      ]
    },
    {
      "cell_type": "markdown",
      "metadata": {
        "id": "JUtbMySVquhS"
      },
      "source": [
        "Variabel adalah lokasi memori yang dicadangkan untuk menyimpan nilai-nilai. Variabel dapat menyimpan berbagai macam tipe data. Di dalam pemrograman Python, variabel mempunyai sifat yang dinamis, artinya variabel Python tidak perlu didekralasikan tipe data tertentu dan variabel Python dapat diubah saat program dijalankan."
      ]
    },
    {
      "cell_type": "code",
      "metadata": {
        "colab": {
          "base_uri": "https://localhost:8080/"
        },
        "id": "KuN8ICSKgQq6",
        "outputId": "930a5a75-4e2b-4507-f30a-0511b465c626"
      },
      "source": [
        "a = 10\n",
        "a"
      ],
      "execution_count": null,
      "outputs": [
        {
          "output_type": "execute_result",
          "data": {
            "text/plain": [
              "10"
            ]
          },
          "metadata": {},
          "execution_count": 8
        }
      ]
    },
    {
      "cell_type": "markdown",
      "metadata": {
        "id": "morVTpo_kmrW"
      },
      "source": [
        "fungsi adalah suatu statement untuk memperpersingkat kode sauatu pemrograman"
      ]
    },
    {
      "cell_type": "code",
      "metadata": {
        "colab": {
          "base_uri": "https://localhost:8080/"
        },
        "id": "sa_x-ONEr6CK",
        "outputId": "cc85f716-2331-4f16-fca5-13772d1d4a83"
      },
      "source": [
        "def tambah():\n",
        "  a = 10\n",
        "  b = 11\n",
        "  c = a + b\n",
        "  print(a,'+',b,'=',c)\n",
        "\n",
        "tambah()"
      ],
      "execution_count": null,
      "outputs": [
        {
          "output_type": "stream",
          "name": "stdout",
          "text": [
            "10 + 11 = 21\n"
          ]
        }
      ]
    },
    {
      "cell_type": "code",
      "metadata": {
        "id": "IRx1f2Pnr8wm"
      },
      "source": [
        ""
      ],
      "execution_count": null,
      "outputs": []
    }
  ]
}